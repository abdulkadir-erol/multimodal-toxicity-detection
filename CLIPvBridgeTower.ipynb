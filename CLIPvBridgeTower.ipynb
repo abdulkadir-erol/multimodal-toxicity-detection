{
  "nbformat": 4,
  "nbformat_minor": 0,
  "metadata": {
    "colab": {
      "provenance": [],
      "authorship_tag": "ABX9TyOPttJXU/4RKDbDruAMD6id",
      "include_colab_link": true
    },
    "kernelspec": {
      "name": "python3",
      "display_name": "Python 3"
    },
    "language_info": {
      "name": "python"
    }
  },
  "cells": [
    {
      "cell_type": "markdown",
      "metadata": {
        "id": "view-in-github",
        "colab_type": "text"
      },
      "source": [
        "<a href=\"https://colab.research.google.com/github/abdulkadir-erol/multimodal-toxicity-detection/blob/main/CLIPvBridgeTower.ipynb\" target=\"_parent\"><img src=\"https://colab.research.google.com/assets/colab-badge.svg\" alt=\"Open In Colab\"/></a>"
      ]
    },
    {
      "cell_type": "code",
      "source": [
        "!pip install transformers\n",
        "!pip install torcheval"
      ],
      "metadata": {
        "id": "F_M6Tn-08HPf"
      },
      "execution_count": null,
      "outputs": []
    },
    {
      "cell_type": "code",
      "source": [
        "from google.colab import drive\n",
        "drive.mount('/content/gdrive')"
      ],
      "metadata": {
        "id": "rYS0Km6z9qrI"
      },
      "execution_count": null,
      "outputs": []
    },
    {
      "cell_type": "code",
      "source": [
        "import torch\n",
        "import torch.nn as nn\n",
        "import torch.optim as optim\n",
        "import numpy as np\n",
        "from torch.utils.data import Dataset, DataLoader\n",
        "from torch.nn.utils.rnn import pad_sequence\n",
        "import json\n",
        "from PIL import Image\n",
        "import logging\n",
        "from transformers import CLIPProcessor, CLIPModel, BridgeTowerProcessor, BridgeTowerModel\n",
        "from tqdm import tqdm\n",
        "import random\n",
        "import time\n",
        "from numpy.linalg import norm\n",
        "import torch.nn.functional as F"
      ],
      "metadata": {
        "id": "ThzHaOxyKM_c"
      },
      "execution_count": null,
      "outputs": []
    },
    {
      "cell_type": "code",
      "source": [
        "device = torch.device('cuda' if torch.cuda.is_available() else 'cpu')\n",
        "model = model.to(device)"
      ],
      "metadata": {
        "id": "zjFbwp4a-yGT"
      },
      "execution_count": null,
      "outputs": []
    },
    {
      "cell_type": "code",
      "source": [
        "def collate_fn(batch):\n",
        "  text_input_ids = [sample[\"text\"][\"input_ids\"] for sample in batch]\n",
        "  text_attention_mask = [sample[\"text\"][\"attention_mask\"] for sample in batch]\n",
        "  for i in range(len(text_input_ids)):\n",
        "    text_input_ids[i] = text_input_ids[i].squeeze(0)\n",
        "    text_attention_mask[i] = text_attention_mask[i].squeeze(0)\n",
        "\n",
        "  max_text_length = max(len(input_ids) for input_ids in text_input_ids)\n",
        "  padded_input_ids = pad_sequence([torch.cat([input_ids, torch.zeros(max_text_length - len(input_ids), dtype=torch.long)]) for input_ids in text_input_ids], batch_first=True, padding_value=0)\n",
        "  padded_attention_mask = pad_sequence([torch.cat([input_ids, torch.zeros(max_text_length - len(input_ids), dtype=torch.long)]) for input_ids in text_attention_mask], batch_first=True, padding_value=0)\n",
        "\n",
        "  return {\n",
        "    \"text\": {\n",
        "      \"input_ids\": padded_input_ids,\n",
        "      \"attention_mask\": padded_attention_mask\n",
        "    },\n",
        "    \"image\": torch.stack([sample[\"image\"] for sample in batch]),\n",
        "    \"label\": torch.tensor([sample[\"label\"] for sample in batch])\n",
        "  }"
      ],
      "metadata": {
        "id": "NthIJrKfKRA4"
      },
      "execution_count": null,
      "outputs": []
    },
    {
      "cell_type": "code",
      "source": [
        "class CustomDataset(Dataset):\n",
        "    def __init__(self, json_file, model, processor, max_length):\n",
        "      self.data = self.load_data(json_file)\n",
        "      self.max_length = max_length\n",
        "      self.clip = model\n",
        "      self.processor = processor\n",
        "\n",
        "    def __len__(self):\n",
        "      return len(self.data)\n",
        "\n",
        "    def __getitem__(self, idx):\n",
        "      item = self.data[idx]\n",
        "      label = item[\"label\"]\n",
        "      text = item[\"text\"]\n",
        "      if len(text) > 77:\n",
        "        text = text[0:77]\n",
        "      image_id = item[\"img\"]\n",
        "      image = \"/content/gdrive/MyDrive/GSU - Research/Emergent Abilities/dataset/facebook_hateful_memes/\" + image_id\n",
        "      img = Image.open(image)\n",
        "\n",
        "      tokens = self.processor(\n",
        "          text=text,\n",
        "          padding='longest',\n",
        "          images=None,\n",
        "          return_tensors='pt',\n",
        "      )\n",
        "\n",
        "      images = self.processor(\n",
        "          text=None,\n",
        "          images=img,\n",
        "          return_tensors='pt'\n",
        "      )['pixel_values']\n",
        "\n",
        "      return {\n",
        "            'image': images.squeeze(0),\n",
        "            'text': tokens,\n",
        "            'label': label\n",
        "        }\n",
        "\n",
        "    def load_data(self, json_file):\n",
        "      with open(json_file, \"r\") as f:\n",
        "          data = [json.loads(line) for line in f]\n",
        "      return data"
      ],
      "metadata": {
        "id": "eqmJx3iCKWfR"
      },
      "execution_count": null,
      "outputs": []
    },
    {
      "cell_type": "code",
      "source": [
        "model_id = 'openai/clip-vit-base-patch32'"
      ],
      "metadata": {
        "id": "S4O1URUl-c1O"
      },
      "execution_count": null,
      "outputs": []
    },
    {
      "cell_type": "code",
      "source": [
        "train_dataset = CustomDataset(json_file='/content/gdrive/MyDrive/GSU - Research/Emergent Abilities/dataset/facebook_hateful_memes/train.jsonl', model=CLIPModel.from_pretrained(model_id), processor=CLIPProcessor.from_pretrained(model_id), max_length=77)\n",
        "dev_dataset = CustomDataset(json_file='/content/gdrive/MyDrive/GSU - Research/Emergent Abilities/dataset/facebook_hateful_memes/dev_seen.jsonl', model=CLIPModel.from_pretrained(model_id), processor=CLIPProcessor.from_pretrained(model_id), max_length=77)\n",
        "test_dataset = CustomDataset(json_file='/content/gdrive/MyDrive/GSU - Research/Emergent Abilities/dataset/facebook_hateful_memes/test_seen.jsonl', model=CLIPModel.from_pretrained(model_id), processor=CLIPProcessor.from_pretrained(model_id), max_length=77)\n",
        "\n",
        "BATCH_SIZE = 32\n",
        "train_loader = DataLoader(train_dataset , batch_size = BATCH_SIZE, shuffle = True, collate_fn=collate_fn)\n",
        "val_loader = DataLoader(dev_dataset , batch_size = BATCH_SIZE, shuffle = False, collate_fn=collate_fn)\n",
        "test_loader = DataLoader(test_dataset , batch_size = BATCH_SIZE, shuffle = False, collate_fn=collate_fn)"
      ],
      "metadata": {
        "id": "-A8uSF5u-aTo"
      },
      "execution_count": null,
      "outputs": []
    },
    {
      "cell_type": "code",
      "source": [
        "class FusionNet(nn.Module):\n",
        "    def __init__(self, input_size, hidden_size):\n",
        "        super(FusionNet, self).__init__()\n",
        "        self.fc1 = nn.Linear(input_size, hidden_size)\n",
        "        self.fc2 = nn.Linear(hidden_size, 1)\n",
        "        self.relu = nn.ReLU()\n",
        "        self.dropout = nn.Dropout(0.3)\n",
        "        self.sigmoid = nn.Sigmoid()\n",
        "\n",
        "    def forward(self, emb1, emb2):\n",
        "        mean_emb = torch.mean(torch.stack([emb1, emb2]), dim=0)\n",
        "        x = self.fc1(mean_emb)\n",
        "        x = self.relu(x)\n",
        "        x = self.dropout(x)\n",
        "        x = self.fc2(x)\n",
        "        x = self.sigmoid(x)\n",
        "        return x\n",
        "\n",
        "class CustomCLIPModel(nn.Module):\n",
        "    def __init__(self):\n",
        "        super(CustomCLIPModel, self).__init__()\n",
        "        self.clip = CLIPModel.from_pretrained(model_id)\n",
        "        self.fusion_net = FusionNet(input_size=512, hidden_size=128)\n",
        "\n",
        "    def forward(self, image_data, text_data):\n",
        "        text_data['input_ids'] = text_data['input_ids'].type(torch.LongTensor)\n",
        "        text_emb = self.clip.get_text_features(input_ids=text_data['input_ids'], attention_mask=text_data['attention_mask'])\n",
        "        img_emb = self.clip.get_image_features(image_data)\n",
        "\n",
        "        fused_probs = self.fusion_net(text_emb, img_emb)\n",
        "        fused_probs = fused_probs.squeeze(dim=1)\n",
        "        return fused_probs"
      ],
      "metadata": {
        "id": "DzvdH7aLKbRq"
      },
      "execution_count": null,
      "outputs": []
    },
    {
      "cell_type": "code",
      "source": [
        "model = CustomCLIPModel()\n",
        "model = model.to(device)\n",
        "optimizer = torch.optim.Adam(model.parameters(), lr=5e-5,betas=(0.9,0.98),eps=1e-6,weight_decay=0.2)\n",
        "criterion = nn.BCELoss()"
      ],
      "metadata": {
        "id": "gRmw8AmUKc4o"
      },
      "execution_count": null,
      "outputs": []
    },
    {
      "cell_type": "code",
      "source": [
        "patience = 3\n",
        "best_val_loss = float('inf')\n",
        "counter = 0\n",
        "early_stop = False"
      ],
      "metadata": {
        "id": "BMRM7FpNKhWl"
      },
      "execution_count": null,
      "outputs": []
    },
    {
      "cell_type": "code",
      "execution_count": null,
      "metadata": {
        "id": "4bHWnECMKKoj"
      },
      "outputs": [],
      "source": [
        "def train(model, train_loader, val_loader, optimizer, criterion, epochs=10):\n",
        "    global best_val_loss, counter, early_stop\n",
        "\n",
        "    for epoch in range(epochs):\n",
        "        if not early_stop:\n",
        "            model.train()\n",
        "            train_loss = 0\n",
        "            pbar = tqdm(train_loader, total=len(train_loader))\n",
        "            for batch in pbar:\n",
        "\n",
        "                optimizer.zero_grad()\n",
        "\n",
        "                text_data = batch['text']\n",
        "                image_data = batch['image']\n",
        "                labels = batch['label']\n",
        "\n",
        "                text_data = {key: value.to(device) for key, value in text_data.items()}\n",
        "                image_data = image_data.to(device)\n",
        "                labels = labels.to(device)\n",
        "\n",
        "                output = model(image_data, text_data)\n",
        "\n",
        "                output = output.type(torch.FloatTensor)\n",
        "                labels = labels.type(torch.FloatTensor)\n",
        "\n",
        "                loss = criterion(output, labels)\n",
        "                loss.backward()\n",
        "\n",
        "                optimizer.step()\n",
        "                train_loss += loss.item()\n",
        "\n",
        "            train_loss /= len(train_loader)\n",
        "            #wandb.log({\"epoch\": epoch+1, \"loss\": train_loss})\n",
        "            logging.info(f\"Epoch [{epoch + 1}/{epochs}], Training Loss: {train_loss:.4f}\")\n",
        "\n",
        "            # Validation\n",
        "            model.eval()\n",
        "            with torch.no_grad():\n",
        "                val_loss = 0\n",
        "                correct = 0\n",
        "                total = 0\n",
        "                pbar2 = tqdm(val_loader, total=len(val_loader))\n",
        "                for batch in pbar2:\n",
        "\n",
        "                    text_data = batch['text']\n",
        "                    image_data = batch['image']\n",
        "                    labels = batch['label']\n",
        "\n",
        "                    text_data = {key: value.to(device) for key, value in text_data.items()}\n",
        "                    image_data = image_data.to(device)\n",
        "                    labels = labels.to(device)\n",
        "\n",
        "                    output = model(image_data, text_data)\n",
        "\n",
        "                    output = output.type(torch.FloatTensor)\n",
        "                    labels = labels.type(torch.FloatTensor)\n",
        "\n",
        "                    val_loss += criterion(output, labels).item()\n",
        "                    predicted = (output > 0.5).float()\n",
        "                    correct += (predicted == labels).sum().item()\n",
        "\n",
        "                    total += labels.size(0)\n",
        "                val_loss /= len(val_loader)\n",
        "                accuracy = 100 * correct / total\n",
        "                print(\"correct\",correct)\n",
        "                print(\"total\", total)\n",
        "                logging.info(f\"Epoch [{epoch + 1}/{epochs}], Validation Loss: {val_loss:.4f}, Accuracy: {accuracy:.2f}%\")\n",
        "\n",
        "                if val_loss < best_val_loss:\n",
        "                    best_val_loss = val_loss\n",
        "                    counter = 0\n",
        "                else:\n",
        "                    counter += 1\n",
        "                    if counter >= patience:\n",
        "                        early_stop = True\n",
        "                        logging.info(\"Early stopping\")\n",
        "                        break"
      ]
    },
    {
      "cell_type": "code",
      "source": [
        "# Training\n",
        "train(model, train_loader, val_loader, optimizer, criterion)\n",
        "\n",
        "# Testing\n",
        "model.eval()\n",
        "test_loss = 0\n",
        "correct = 0\n",
        "total = 0\n",
        "with torch.no_grad():\n",
        "    pbar = tqdm(test_loader, total=len(test_loader))\n",
        "    for batch in pbar:\n",
        "\n",
        "        text_data = batch['text']\n",
        "        image_data = batch['image']\n",
        "        labels = batch['label']\n",
        "\n",
        "        text_data = {key: value.to(device) for key, value in text_data.items()}\n",
        "        image_data = image_data.to(device)\n",
        "        labels = labels.to(device)\n",
        "\n",
        "        output = model(image_data, text_data)\n",
        "\n",
        "        output = output.type(torch.FloatTensor)\n",
        "        labels = labels.type(torch.FloatTensor)\n",
        "\n",
        "        test_loss += criterion(output, labels).item()\n",
        "        predicted = (output > 0.5).float()  # Adjust threshold for binary classification\n",
        "        correct += (predicted == labels).sum().item()\n",
        "        total += labels.size(0)\n",
        "\n",
        "test_loss /= len(test_loader)\n",
        "test_accuracy = 100 * correct / total\n",
        "print(f\"Test Loss: {test_loss:.4f}, Test Accuracy: {test_accuracy:.2f}%\")"
      ],
      "metadata": {
        "id": "UP8SCdx1KtJS"
      },
      "execution_count": null,
      "outputs": []
    },
    {
      "cell_type": "code",
      "source": [
        "class BridgeTowerHead(nn.Module):\n",
        "    def __init__(self):\n",
        "        super().__init__()\n",
        "\n",
        "        self.linear_stack = nn.Sequential(\n",
        "            nn.Linear(1536, 512),\n",
        "            nn.ReLU(),\n",
        "            nn.Linear(512, 2),\n",
        "        )\n",
        "\n",
        "    def forward(self, x):\n",
        "        logits = self.linear_stack(x)\n",
        "        return logits"
      ],
      "metadata": {
        "id": "os3ZcVKf8A9h"
      },
      "execution_count": null,
      "outputs": []
    },
    {
      "cell_type": "code",
      "source": [
        "processor = BridgeTowerProcessor.from_pretrained(\"BridgeTower/bridgetower-base\")\n",
        "model = BridgeTowerModel.from_pretrained(\"BridgeTower/bridgetower-base\")\n",
        "\n",
        "model.to(device)"
      ],
      "metadata": {
        "id": "nDlyZRZU8EIH"
      },
      "execution_count": null,
      "outputs": []
    },
    {
      "cell_type": "code",
      "source": [
        "train_dataset = CustomDataset(json_file='/content/gdrive/MyDrive/GSU - Research/Emergent Abilities/dataset/facebook_hateful_memes/train.jsonl', model=model, processor=processor, max_length=77)\n",
        "dev_dataset = CustomDataset(json_file='/content/gdrive/MyDrive/GSU - Research/Emergent Abilities/dataset/facebook_hateful_memes/dev_seen.jsonl', model=model, processor=processor, max_length=77)\n",
        "test_dataset = CustomDataset(json_file='/content/gdrive/MyDrive/GSU - Research/Emergent Abilities/dataset/facebook_hateful_memes/test_seen.jsonl', model=model, processor=processor, max_length=77)\n",
        "\n",
        "BATCH_SIZE = 32\n",
        "train_loader = DataLoader(train_dataset , batch_size = BATCH_SIZE, shuffle = True, collate_fn=collate_fn)\n",
        "val_loader = DataLoader(dev_dataset , batch_size = BATCH_SIZE, shuffle = False, collate_fn=collate_fn)\n",
        "test_loader = DataLoader(test_dataset , batch_size = BATCH_SIZE, shuffle = False, collate_fn=collate_fn)"
      ],
      "metadata": {
        "id": "S5tUAwxLAE0p"
      },
      "execution_count": null,
      "outputs": []
    },
    {
      "cell_type": "code",
      "source": [
        "head = BridgeTowerHead()\n",
        "head.to(device)\n",
        "\n",
        "lr = 1e-4\n",
        "weight_decay = 1e-3\n",
        "epochs = 10\n",
        "\n",
        "criterion = nn.CrossEntropyLoss()\n",
        "optimizer = optim.Adam(head.parameters(), lr=lr, weight_decay=weight_decay)"
      ],
      "metadata": {
        "id": "2xAacr6j8474"
      },
      "execution_count": null,
      "outputs": []
    },
    {
      "cell_type": "code",
      "source": [
        "# Training\n",
        "train(model, train_loader, val_loader, optimizer, criterion)\n",
        "\n",
        "# Testing\n",
        "model.eval()\n",
        "test_loss = 0\n",
        "correct = 0\n",
        "total = 0\n",
        "with torch.no_grad():\n",
        "    pbar = tqdm(test_loader, total=len(test_loader))\n",
        "    for batch in pbar:\n",
        "\n",
        "        text_data = batch['text']\n",
        "        image_data = batch['image']\n",
        "        labels = batch['label']\n",
        "\n",
        "        text_data = {key: value.to(device) for key, value in text_data.items()}\n",
        "        image_data = image_data.to(device)\n",
        "        labels = labels.to(device)\n",
        "\n",
        "        output = model(image_data, text_data)\n",
        "\n",
        "        output = output.type(torch.FloatTensor)\n",
        "        labels = labels.type(torch.FloatTensor)\n",
        "\n",
        "        test_loss += criterion(output, labels).item()\n",
        "        predicted = (output > 0.5).float()  # Adjust threshold for binary classification\n",
        "        correct += (predicted == labels).sum().item()\n",
        "        total += labels.size(0)\n",
        "\n",
        "test_loss /= len(test_loader)\n",
        "test_accuracy = 100 * correct / total\n",
        "print(f\"Test Loss: {test_loss:.4f}, Test Accuracy: {test_accuracy:.2f}%\")"
      ],
      "metadata": {
        "id": "hys4WnDH8_xg"
      },
      "execution_count": null,
      "outputs": []
    }
  ]
}